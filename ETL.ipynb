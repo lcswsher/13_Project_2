{
 "cells": [
  {
   "cell_type": "code",
   "execution_count": 1,
   "metadata": {},
   "outputs": [],
   "source": [
    "import pandas as pd\n",
    "# pd.set_option('display.max_rows',None,'display.max_columns',None)"
   ]
  },
  {
   "cell_type": "code",
   "execution_count": 2,
   "metadata": {},
   "outputs": [],
   "source": [
    "jp = pd.read_csv('resources/data_scientist_united_states_job_postings_jobspikr.csv')"
   ]
  },
  {
   "cell_type": "code",
   "execution_count": 3,
   "metadata": {},
   "outputs": [],
   "source": [
    "sl = pd.read_csv('resources/glassdoor.csv')"
   ]
  },
  {
   "cell_type": "code",
   "execution_count": 4,
   "metadata": {},
   "outputs": [
    {
     "data": {
      "text/plain": [
       "Index(['crawl_timestamp', 'url', 'job_title', 'category', 'company_name',\n",
       "       'city', 'state', 'country', 'inferred_city', 'inferred_state',\n",
       "       'inferred_country', 'post_date', 'job_description', 'job_type',\n",
       "       'salary_offered', 'job_board', 'geo', 'cursor', 'contact_email',\n",
       "       'contact_phone_number', 'uniq_id', 'html_job_description'],\n",
       "      dtype='object')"
      ]
     },
     "execution_count": 4,
     "metadata": {},
     "output_type": "execute_result"
    }
   ],
   "source": [
    "jp.columns"
   ]
  },
  {
   "cell_type": "code",
   "execution_count": 5,
   "metadata": {},
   "outputs": [],
   "source": [
    "job_posts = jp[['job_title', 'category', 'company_name', 'inferred_city', 'inferred_state',\n",
    "       'inferred_country', 'post_date', 'job_description', 'salary_offered' ]].copy(deep=True)\n",
    "job_posts['job_title'].dropna(inplace=True)\n",
    "# job_posts.head()"
   ]
  },
  {
   "cell_type": "code",
   "execution_count": 6,
   "metadata": {},
   "outputs": [],
   "source": [
    "# job_posts.groupby(['company_name']).nunique()"
   ]
  },
  {
   "cell_type": "code",
   "execution_count": 7,
   "metadata": {},
   "outputs": [
    {
     "data": {
      "text/html": [
       "<div>\n",
       "<style scoped>\n",
       "    .dataframe tbody tr th:only-of-type {\n",
       "        vertical-align: middle;\n",
       "    }\n",
       "\n",
       "    .dataframe tbody tr th {\n",
       "        vertical-align: top;\n",
       "    }\n",
       "\n",
       "    .dataframe thead th {\n",
       "        text-align: right;\n",
       "    }\n",
       "</style>\n",
       "<table border=\"1\" class=\"dataframe\">\n",
       "  <thead>\n",
       "    <tr style=\"text-align: right;\">\n",
       "      <th></th>\n",
       "      <th>job_title</th>\n",
       "      <th>category</th>\n",
       "      <th>company_name</th>\n",
       "      <th>inferred_city</th>\n",
       "      <th>inferred_state</th>\n",
       "      <th>inferred_country</th>\n",
       "      <th>post_date</th>\n",
       "      <th>job_description</th>\n",
       "      <th>salary_offered</th>\n",
       "    </tr>\n",
       "  </thead>\n",
       "  <tbody>\n",
       "    <tr>\n",
       "      <th>0</th>\n",
       "      <td>Enterprise Data Scientist I</td>\n",
       "      <td>Accounting/Finance</td>\n",
       "      <td>Farmers Insurance Group</td>\n",
       "      <td>Woodland hills</td>\n",
       "      <td>California</td>\n",
       "      <td>Usa</td>\n",
       "      <td>2/6/2019</td>\n",
       "      <td>Read what people are saying about working here...</td>\n",
       "      <td>NaN</td>\n",
       "    </tr>\n",
       "    <tr>\n",
       "      <th>1</th>\n",
       "      <td>Data Scientist</td>\n",
       "      <td>NaN</td>\n",
       "      <td>Luxoft USA Inc</td>\n",
       "      <td>Middletown</td>\n",
       "      <td>New jersey</td>\n",
       "      <td>Usa</td>\n",
       "      <td>2/5/2019</td>\n",
       "      <td>We have an immediate opening for a Sharp Data ...</td>\n",
       "      <td>NaN</td>\n",
       "    </tr>\n",
       "    <tr>\n",
       "      <th>2</th>\n",
       "      <td>Data Scientist</td>\n",
       "      <td>NaN</td>\n",
       "      <td>Cincinnati Bell Technology Solutions</td>\n",
       "      <td>New york</td>\n",
       "      <td>New york</td>\n",
       "      <td>Usa</td>\n",
       "      <td>2/5/2019</td>\n",
       "      <td>Candidates should have the following backgroun...</td>\n",
       "      <td>NaN</td>\n",
       "    </tr>\n",
       "    <tr>\n",
       "      <th>3</th>\n",
       "      <td>Data Scientist, Aladdin Wealth Tech, Associate...</td>\n",
       "      <td>Accounting/Finance</td>\n",
       "      <td>BlackRock</td>\n",
       "      <td>New york</td>\n",
       "      <td>New york</td>\n",
       "      <td>Usa</td>\n",
       "      <td>2/6/2019</td>\n",
       "      <td>Read what people are saying about working here...</td>\n",
       "      <td>NaN</td>\n",
       "    </tr>\n",
       "    <tr>\n",
       "      <th>4</th>\n",
       "      <td>Senior Data Scientist</td>\n",
       "      <td>biotech</td>\n",
       "      <td>CyberCoders</td>\n",
       "      <td>Charlotte</td>\n",
       "      <td>North carolina</td>\n",
       "      <td>Usa</td>\n",
       "      <td>2/5/2019</td>\n",
       "      <td>We are seeking an extraordinary Data Scientist...</td>\n",
       "      <td>NaN</td>\n",
       "    </tr>\n",
       "  </tbody>\n",
       "</table>\n",
       "</div>"
      ],
      "text/plain": [
       "                                           job_title            category  \\\n",
       "0                        Enterprise Data Scientist I  Accounting/Finance   \n",
       "1                                     Data Scientist                 NaN   \n",
       "2                                     Data Scientist                 NaN   \n",
       "3  Data Scientist, Aladdin Wealth Tech, Associate...  Accounting/Finance   \n",
       "4                              Senior Data Scientist             biotech   \n",
       "\n",
       "                           company_name   inferred_city  inferred_state  \\\n",
       "0               Farmers Insurance Group  Woodland hills      California   \n",
       "1                        Luxoft USA Inc      Middletown      New jersey   \n",
       "2  Cincinnati Bell Technology Solutions        New york        New york   \n",
       "3                             BlackRock        New york        New york   \n",
       "4                           CyberCoders       Charlotte  North carolina   \n",
       "\n",
       "  inferred_country post_date  \\\n",
       "0              Usa  2/6/2019   \n",
       "1              Usa  2/5/2019   \n",
       "2              Usa  2/5/2019   \n",
       "3              Usa  2/6/2019   \n",
       "4              Usa  2/5/2019   \n",
       "\n",
       "                                     job_description salary_offered  \n",
       "0  Read what people are saying about working here...            NaN  \n",
       "1  We have an immediate opening for a Sharp Data ...            NaN  \n",
       "2  Candidates should have the following backgroun...            NaN  \n",
       "3  Read what people are saying about working here...            NaN  \n",
       "4  We are seeking an extraordinary Data Scientist...            NaN  "
      ]
     },
     "execution_count": 7,
     "metadata": {},
     "output_type": "execute_result"
    }
   ],
   "source": [
    "job_posts['job_title'].str.contains(\"Data\").unique()\n",
    "job_posts.drop(job_posts[job_posts['job_title'].isna()].index, inplace=True)\n",
    "\n",
    "\n",
    "job_posts.reset_index(inplace=True, drop=True)\n",
    "job_posts.head()"
   ]
  },
  {
   "cell_type": "code",
   "execution_count": 14,
   "metadata": {},
   "outputs": [],
   "source": [
    "# job_posts.groupby(['job_title']).nunique()\n",
    "job_posts = job_posts[job_posts['job_title'].str.contains(\"Data Scientist\")]"
   ]
  },
  {
   "cell_type": "code",
   "execution_count": 16,
   "metadata": {},
   "outputs": [],
   "source": [
    "job_posts['job_title'] = \"Data Scientist\""
   ]
  },
  {
   "cell_type": "code",
   "execution_count": 17,
   "metadata": {},
   "outputs": [
    {
     "data": {
      "text/html": [
       "<div>\n",
       "<style scoped>\n",
       "    .dataframe tbody tr th:only-of-type {\n",
       "        vertical-align: middle;\n",
       "    }\n",
       "\n",
       "    .dataframe tbody tr th {\n",
       "        vertical-align: top;\n",
       "    }\n",
       "\n",
       "    .dataframe thead th {\n",
       "        text-align: right;\n",
       "    }\n",
       "</style>\n",
       "<table border=\"1\" class=\"dataframe\">\n",
       "  <thead>\n",
       "    <tr style=\"text-align: right;\">\n",
       "      <th></th>\n",
       "      <th>job_title</th>\n",
       "      <th>category</th>\n",
       "      <th>company_name</th>\n",
       "      <th>inferred_city</th>\n",
       "      <th>inferred_state</th>\n",
       "      <th>inferred_country</th>\n",
       "      <th>post_date</th>\n",
       "      <th>job_description</th>\n",
       "      <th>salary_offered</th>\n",
       "    </tr>\n",
       "  </thead>\n",
       "  <tbody>\n",
       "    <tr>\n",
       "      <th>0</th>\n",
       "      <td>Data Scientist</td>\n",
       "      <td>Accounting/Finance</td>\n",
       "      <td>Farmers Insurance Group</td>\n",
       "      <td>Woodland hills</td>\n",
       "      <td>California</td>\n",
       "      <td>Usa</td>\n",
       "      <td>2/6/2019</td>\n",
       "      <td>Read what people are saying about working here...</td>\n",
       "      <td>NaN</td>\n",
       "    </tr>\n",
       "    <tr>\n",
       "      <th>1</th>\n",
       "      <td>Data Scientist</td>\n",
       "      <td>NaN</td>\n",
       "      <td>Luxoft USA Inc</td>\n",
       "      <td>Middletown</td>\n",
       "      <td>New jersey</td>\n",
       "      <td>Usa</td>\n",
       "      <td>2/5/2019</td>\n",
       "      <td>We have an immediate opening for a Sharp Data ...</td>\n",
       "      <td>NaN</td>\n",
       "    </tr>\n",
       "    <tr>\n",
       "      <th>2</th>\n",
       "      <td>Data Scientist</td>\n",
       "      <td>NaN</td>\n",
       "      <td>Cincinnati Bell Technology Solutions</td>\n",
       "      <td>New york</td>\n",
       "      <td>New york</td>\n",
       "      <td>Usa</td>\n",
       "      <td>2/5/2019</td>\n",
       "      <td>Candidates should have the following backgroun...</td>\n",
       "      <td>NaN</td>\n",
       "    </tr>\n",
       "    <tr>\n",
       "      <th>3</th>\n",
       "      <td>Data Scientist</td>\n",
       "      <td>Accounting/Finance</td>\n",
       "      <td>BlackRock</td>\n",
       "      <td>New york</td>\n",
       "      <td>New york</td>\n",
       "      <td>Usa</td>\n",
       "      <td>2/6/2019</td>\n",
       "      <td>Read what people are saying about working here...</td>\n",
       "      <td>NaN</td>\n",
       "    </tr>\n",
       "    <tr>\n",
       "      <th>4</th>\n",
       "      <td>Data Scientist</td>\n",
       "      <td>biotech</td>\n",
       "      <td>CyberCoders</td>\n",
       "      <td>Charlotte</td>\n",
       "      <td>North carolina</td>\n",
       "      <td>Usa</td>\n",
       "      <td>2/5/2019</td>\n",
       "      <td>We are seeking an extraordinary Data Scientist...</td>\n",
       "      <td>NaN</td>\n",
       "    </tr>\n",
       "  </tbody>\n",
       "</table>\n",
       "</div>"
      ],
      "text/plain": [
       "        job_title            category                          company_name  \\\n",
       "0  Data Scientist  Accounting/Finance               Farmers Insurance Group   \n",
       "1  Data Scientist                 NaN                        Luxoft USA Inc   \n",
       "2  Data Scientist                 NaN  Cincinnati Bell Technology Solutions   \n",
       "3  Data Scientist  Accounting/Finance                             BlackRock   \n",
       "4  Data Scientist             biotech                           CyberCoders   \n",
       "\n",
       "    inferred_city  inferred_state inferred_country post_date  \\\n",
       "0  Woodland hills      California              Usa  2/6/2019   \n",
       "1      Middletown      New jersey              Usa  2/5/2019   \n",
       "2        New york        New york              Usa  2/5/2019   \n",
       "3        New york        New york              Usa  2/6/2019   \n",
       "4       Charlotte  North carolina              Usa  2/5/2019   \n",
       "\n",
       "                                     job_description salary_offered  \n",
       "0  Read what people are saying about working here...            NaN  \n",
       "1  We have an immediate opening for a Sharp Data ...            NaN  \n",
       "2  Candidates should have the following backgroun...            NaN  \n",
       "3  Read what people are saying about working here...            NaN  \n",
       "4  We are seeking an extraordinary Data Scientist...            NaN  "
      ]
     },
     "execution_count": 17,
     "metadata": {},
     "output_type": "execute_result"
    }
   ],
   "source": [
    "job_posts.head()"
   ]
  },
  {
   "cell_type": "code",
   "execution_count": 37,
   "metadata": {},
   "outputs": [
    {
     "data": {
      "text/plain": [
       "2"
      ]
     },
     "execution_count": 37,
     "metadata": {},
     "output_type": "execute_result"
    }
   ],
   "source": [
    "pd.set_option('display.max_rows',None)\n",
    "# df = pd.DataFrame(job_posts['company_name'].value_counts())\n",
    "job_posts['company_name'].dropna(inplace=True)\n",
    "\n",
    "job_posts['company_name'].isna().sum()"
   ]
  },
  {
   "cell_type": "code",
   "execution_count": 38,
   "metadata": {},
   "outputs": [],
   "source": [
    "job_posts.drop(job_posts[job_posts['company_name'].isna()].index, inplace=True)"
   ]
  },
  {
   "cell_type": "code",
   "execution_count": 39,
   "metadata": {},
   "outputs": [
    {
     "data": {
      "text/plain": [
       "0"
      ]
     },
     "execution_count": 39,
     "metadata": {},
     "output_type": "execute_result"
    }
   ],
   "source": [
    "job_posts['company_name'].isna().sum()"
   ]
  },
  {
   "cell_type": "code",
   "execution_count": 42,
   "metadata": {},
   "outputs": [
    {
     "data": {
      "text/plain": [
       "False    9845\n",
       "True      155\n",
       "Name: company_name, dtype: int64"
      ]
     },
     "execution_count": 42,
     "metadata": {},
     "output_type": "execute_result"
    }
   ],
   "source": [
    "job_posts['company_name'].str.contains('Booz Allen').value_counts()"
   ]
  },
  {
   "cell_type": "code",
   "execution_count": null,
   "metadata": {},
   "outputs": [],
   "source": []
  }
 ],
 "metadata": {
  "kernelspec": {
   "display_name": "Python [conda env:root] *",
   "language": "python",
   "name": "conda-root-py"
  },
  "language_info": {
   "codemirror_mode": {
    "name": "ipython",
    "version": 3
   },
   "file_extension": ".py",
   "mimetype": "text/x-python",
   "name": "python",
   "nbconvert_exporter": "python",
   "pygments_lexer": "ipython3",
   "version": "3.8.5"
  }
 },
 "nbformat": 4,
 "nbformat_minor": 4
}
