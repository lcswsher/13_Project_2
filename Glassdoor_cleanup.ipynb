{
 "cells": [
  {
   "cell_type": "code",
   "execution_count": 86,
   "metadata": {},
   "outputs": [],
   "source": [
    "import pandas as pd\n"
   ]
  },
  {
   "cell_type": "code",
   "execution_count": 87,
   "metadata": {},
   "outputs": [
    {
     "data": {
      "text/plain": [
       "Index(['Job Title', 'Salary Estimate', 'Job Description', 'Rating',\n",
       "       'Company Name', 'Location', 'Headquarters', 'Size', 'Founded',\n",
       "       'Type of ownership', 'Industry', 'Sector', 'Revenue', 'Competitors',\n",
       "       'hourly', 'employer_provided', 'min_salary', 'max_salary', 'avg_salary',\n",
       "       'company_txt', 'job_state', 'same_state', 'age', 'python_yn', 'R_yn',\n",
       "       'spark', 'aws', 'excel'],\n",
       "      dtype='object')"
      ]
     },
     "execution_count": 87,
     "metadata": {},
     "output_type": "execute_result"
    }
   ],
   "source": [
    "glassdoor_file = 'resources/glassdoor.csv'\n",
    "df = pd.read_csv(glassdoor_file)\n",
    "drop_col = df.columns\n",
    "drop_col"
   ]
  },
  {
   "cell_type": "code",
   "execution_count": 88,
   "metadata": {},
   "outputs": [
    {
     "data": {
      "text/html": [
       "<div>\n",
       "<style scoped>\n",
       "    .dataframe tbody tr th:only-of-type {\n",
       "        vertical-align: middle;\n",
       "    }\n",
       "\n",
       "    .dataframe tbody tr th {\n",
       "        vertical-align: top;\n",
       "    }\n",
       "\n",
       "    .dataframe thead th {\n",
       "        text-align: right;\n",
       "    }\n",
       "</style>\n",
       "<table border=\"1\" class=\"dataframe\">\n",
       "  <thead>\n",
       "    <tr style=\"text-align: right;\">\n",
       "      <th></th>\n",
       "      <th>Salary Estimate</th>\n",
       "      <th>Company Name</th>\n",
       "    </tr>\n",
       "  </thead>\n",
       "  <tbody>\n",
       "    <tr>\n",
       "      <th>0</th>\n",
       "      <td>$53K-$91K (Glassdoor est.)</td>\n",
       "      <td>Tecolote Research\\n3.8</td>\n",
       "    </tr>\n",
       "    <tr>\n",
       "      <th>1</th>\n",
       "      <td>$63K-$112K (Glassdoor est.)</td>\n",
       "      <td>University of Maryland Medical System\\n3.4</td>\n",
       "    </tr>\n",
       "    <tr>\n",
       "      <th>2</th>\n",
       "      <td>$80K-$90K (Glassdoor est.)</td>\n",
       "      <td>KnowBe4\\n4.8</td>\n",
       "    </tr>\n",
       "    <tr>\n",
       "      <th>3</th>\n",
       "      <td>$56K-$97K (Glassdoor est.)</td>\n",
       "      <td>PNNL\\n3.8</td>\n",
       "    </tr>\n",
       "    <tr>\n",
       "      <th>4</th>\n",
       "      <td>$86K-$143K (Glassdoor est.)</td>\n",
       "      <td>Affinity Solutions\\n2.9</td>\n",
       "    </tr>\n",
       "  </tbody>\n",
       "</table>\n",
       "</div>"
      ],
      "text/plain": [
       "               Salary Estimate                                Company Name\n",
       "0   $53K-$91K (Glassdoor est.)                      Tecolote Research\\n3.8\n",
       "1  $63K-$112K (Glassdoor est.)  University of Maryland Medical System\\n3.4\n",
       "2   $80K-$90K (Glassdoor est.)                                KnowBe4\\n4.8\n",
       "3   $56K-$97K (Glassdoor est.)                                   PNNL\\n3.8\n",
       "4  $86K-$143K (Glassdoor est.)                     Affinity Solutions\\n2.9"
      ]
     },
     "execution_count": 88,
     "metadata": {},
     "output_type": "execute_result"
    }
   ],
   "source": [
    "b = ['Job Title', 'Job Description', 'Rating', 'Location', 'Headquarters', 'Size', 'Founded', 'Type of ownership', 'Industry', 'Sector', 'Revenue', 'Competitors', 'hourly', 'employer_provided', 'min_salary', 'max_salary', 'avg_salary', 'company_txt', 'job_state', 'same_state', 'age', 'python_yn', 'R_yn', 'spark', 'aws', 'excel']\n",
    "df.drop(axis=1, columns=b, inplace=True)\n",
    "df.head()"
   ]
  },
  {
   "cell_type": "code",
   "execution_count": 89,
   "metadata": {},
   "outputs": [],
   "source": [
    "#df['Company Name'].unique"
   ]
  },
  {
   "cell_type": "code",
   "execution_count": 90,
   "metadata": {},
   "outputs": [
    {
     "data": {
      "text/html": [
       "<div>\n",
       "<style scoped>\n",
       "    .dataframe tbody tr th:only-of-type {\n",
       "        vertical-align: middle;\n",
       "    }\n",
       "\n",
       "    .dataframe tbody tr th {\n",
       "        vertical-align: top;\n",
       "    }\n",
       "\n",
       "    .dataframe thead th {\n",
       "        text-align: right;\n",
       "    }\n",
       "</style>\n",
       "<table border=\"1\" class=\"dataframe\">\n",
       "  <thead>\n",
       "    <tr style=\"text-align: right;\">\n",
       "      <th></th>\n",
       "      <th>Salary Estimate</th>\n",
       "      <th>Company Name</th>\n",
       "    </tr>\n",
       "  </thead>\n",
       "  <tbody>\n",
       "    <tr>\n",
       "      <th>0</th>\n",
       "      <td>$53K-$91K (Glassdoor est.)</td>\n",
       "      <td>Tecolote Research\\n3.8</td>\n",
       "    </tr>\n",
       "    <tr>\n",
       "      <th>1</th>\n",
       "      <td>$63K-$112K (Glassdoor est.)</td>\n",
       "      <td>University of Maryland Medical System\\n3.4</td>\n",
       "    </tr>\n",
       "    <tr>\n",
       "      <th>2</th>\n",
       "      <td>$80K-$90K (Glassdoor est.)</td>\n",
       "      <td>KnowBe4\\n4.8</td>\n",
       "    </tr>\n",
       "    <tr>\n",
       "      <th>3</th>\n",
       "      <td>$56K-$97K (Glassdoor est.)</td>\n",
       "      <td>PNNL\\n3.8</td>\n",
       "    </tr>\n",
       "    <tr>\n",
       "      <th>4</th>\n",
       "      <td>$86K-$143K (Glassdoor est.)</td>\n",
       "      <td>Affinity Solutions\\n2.9</td>\n",
       "    </tr>\n",
       "  </tbody>\n",
       "</table>\n",
       "</div>"
      ],
      "text/plain": [
       "               Salary Estimate                                Company Name\n",
       "0   $53K-$91K (Glassdoor est.)                      Tecolote Research\\n3.8\n",
       "1  $63K-$112K (Glassdoor est.)  University of Maryland Medical System\\n3.4\n",
       "2   $80K-$90K (Glassdoor est.)                                KnowBe4\\n4.8\n",
       "3   $56K-$97K (Glassdoor est.)                                   PNNL\\n3.8\n",
       "4  $86K-$143K (Glassdoor est.)                     Affinity Solutions\\n2.9"
      ]
     },
     "execution_count": 90,
     "metadata": {},
     "output_type": "execute_result"
    }
   ],
   "source": [
    "df.drop_duplicates(subset=['Company Name'],inplace=True)\n",
    "df.reset_index(inplace=True, drop=True)\n",
    "df.head()"
   ]
  },
  {
   "cell_type": "code",
   "execution_count": 91,
   "metadata": {},
   "outputs": [],
   "source": [
    "df1 = df['Company Name'].str.split(pat='\\n',expand=True)"
   ]
  },
  {
   "cell_type": "code",
   "execution_count": 92,
   "metadata": {},
   "outputs": [
    {
     "data": {
      "text/html": [
       "<div>\n",
       "<style scoped>\n",
       "    .dataframe tbody tr th:only-of-type {\n",
       "        vertical-align: middle;\n",
       "    }\n",
       "\n",
       "    .dataframe tbody tr th {\n",
       "        vertical-align: top;\n",
       "    }\n",
       "\n",
       "    .dataframe thead th {\n",
       "        text-align: right;\n",
       "    }\n",
       "</style>\n",
       "<table border=\"1\" class=\"dataframe\">\n",
       "  <thead>\n",
       "    <tr style=\"text-align: right;\">\n",
       "      <th></th>\n",
       "      <th>Salary Estimate</th>\n",
       "      <th>Company Name</th>\n",
       "      <th>0</th>\n",
       "      <th>1</th>\n",
       "    </tr>\n",
       "  </thead>\n",
       "  <tbody>\n",
       "    <tr>\n",
       "      <th>0</th>\n",
       "      <td>$53K-$91K (Glassdoor est.)</td>\n",
       "      <td>Tecolote Research\\n3.8</td>\n",
       "      <td>Tecolote Research</td>\n",
       "      <td>3.8</td>\n",
       "    </tr>\n",
       "    <tr>\n",
       "      <th>1</th>\n",
       "      <td>$63K-$112K (Glassdoor est.)</td>\n",
       "      <td>University of Maryland Medical System\\n3.4</td>\n",
       "      <td>University of Maryland Medical System</td>\n",
       "      <td>3.4</td>\n",
       "    </tr>\n",
       "    <tr>\n",
       "      <th>2</th>\n",
       "      <td>$80K-$90K (Glassdoor est.)</td>\n",
       "      <td>KnowBe4\\n4.8</td>\n",
       "      <td>KnowBe4</td>\n",
       "      <td>4.8</td>\n",
       "    </tr>\n",
       "    <tr>\n",
       "      <th>3</th>\n",
       "      <td>$56K-$97K (Glassdoor est.)</td>\n",
       "      <td>PNNL\\n3.8</td>\n",
       "      <td>PNNL</td>\n",
       "      <td>3.8</td>\n",
       "    </tr>\n",
       "    <tr>\n",
       "      <th>4</th>\n",
       "      <td>$86K-$143K (Glassdoor est.)</td>\n",
       "      <td>Affinity Solutions\\n2.9</td>\n",
       "      <td>Affinity Solutions</td>\n",
       "      <td>2.9</td>\n",
       "    </tr>\n",
       "  </tbody>\n",
       "</table>\n",
       "</div>"
      ],
      "text/plain": [
       "               Salary Estimate                                Company Name  \\\n",
       "0   $53K-$91K (Glassdoor est.)                      Tecolote Research\\n3.8   \n",
       "1  $63K-$112K (Glassdoor est.)  University of Maryland Medical System\\n3.4   \n",
       "2   $80K-$90K (Glassdoor est.)                                KnowBe4\\n4.8   \n",
       "3   $56K-$97K (Glassdoor est.)                                   PNNL\\n3.8   \n",
       "4  $86K-$143K (Glassdoor est.)                     Affinity Solutions\\n2.9   \n",
       "\n",
       "                                       0    1  \n",
       "0                      Tecolote Research  3.8  \n",
       "1  University of Maryland Medical System  3.4  \n",
       "2                                KnowBe4  4.8  \n",
       "3                                   PNNL  3.8  \n",
       "4                     Affinity Solutions  2.9  "
      ]
     },
     "execution_count": 92,
     "metadata": {},
     "output_type": "execute_result"
    }
   ],
   "source": [
    "df = pd.concat([df, df1],axis=1)\n",
    "df.head()"
   ]
  },
  {
   "cell_type": "code",
   "execution_count": 93,
   "metadata": {},
   "outputs": [],
   "source": [
    "df.drop(axis=1, columns=['Company Name', 1],inplace=True)"
   ]
  },
  {
   "cell_type": "code",
   "execution_count": 94,
   "metadata": {},
   "outputs": [
    {
     "data": {
      "text/html": [
       "<div>\n",
       "<style scoped>\n",
       "    .dataframe tbody tr th:only-of-type {\n",
       "        vertical-align: middle;\n",
       "    }\n",
       "\n",
       "    .dataframe tbody tr th {\n",
       "        vertical-align: top;\n",
       "    }\n",
       "\n",
       "    .dataframe thead th {\n",
       "        text-align: right;\n",
       "    }\n",
       "</style>\n",
       "<table border=\"1\" class=\"dataframe\">\n",
       "  <thead>\n",
       "    <tr style=\"text-align: right;\">\n",
       "      <th></th>\n",
       "      <th>Salary Estimate</th>\n",
       "      <th>Company Name</th>\n",
       "    </tr>\n",
       "  </thead>\n",
       "  <tbody>\n",
       "    <tr>\n",
       "      <th>0</th>\n",
       "      <td>$53K-$91K (Glassdoor est.)</td>\n",
       "      <td>Tecolote Research</td>\n",
       "    </tr>\n",
       "    <tr>\n",
       "      <th>1</th>\n",
       "      <td>$63K-$112K (Glassdoor est.)</td>\n",
       "      <td>University of Maryland Medical System</td>\n",
       "    </tr>\n",
       "    <tr>\n",
       "      <th>2</th>\n",
       "      <td>$80K-$90K (Glassdoor est.)</td>\n",
       "      <td>KnowBe4</td>\n",
       "    </tr>\n",
       "    <tr>\n",
       "      <th>3</th>\n",
       "      <td>$56K-$97K (Glassdoor est.)</td>\n",
       "      <td>PNNL</td>\n",
       "    </tr>\n",
       "    <tr>\n",
       "      <th>4</th>\n",
       "      <td>$86K-$143K (Glassdoor est.)</td>\n",
       "      <td>Affinity Solutions</td>\n",
       "    </tr>\n",
       "  </tbody>\n",
       "</table>\n",
       "</div>"
      ],
      "text/plain": [
       "               Salary Estimate                           Company Name\n",
       "0   $53K-$91K (Glassdoor est.)                      Tecolote Research\n",
       "1  $63K-$112K (Glassdoor est.)  University of Maryland Medical System\n",
       "2   $80K-$90K (Glassdoor est.)                                KnowBe4\n",
       "3   $56K-$97K (Glassdoor est.)                                   PNNL\n",
       "4  $86K-$143K (Glassdoor est.)                     Affinity Solutions"
      ]
     },
     "execution_count": 94,
     "metadata": {},
     "output_type": "execute_result"
    }
   ],
   "source": [
    "df.rename(columns={0:\"Company Name\"},inplace=True)\n",
    "df.head()"
   ]
  },
  {
   "cell_type": "code",
   "execution_count": 95,
   "metadata": {},
   "outputs": [],
   "source": [
    "# # Cleaning \n",
    "# df2 = df\n",
    "# df1 = df2['Salary Estimate'].str.rstrip('(Glassdoor est.)')\n",
    "# df.drop(axis=1, columns=['Salary Estimate'],inplace=True)\n",
    "# df = pd.concat([df, df1],axis=1)"
   ]
  },
  {
   "cell_type": "code",
   "execution_count": null,
   "metadata": {},
   "outputs": [],
   "source": []
  },
  {
   "cell_type": "code",
   "execution_count": 96,
   "metadata": {},
   "outputs": [],
   "source": [
    "mask = df['Company Name'].str.contains('LLC').value_counts()"
   ]
  },
  {
   "cell_type": "code",
   "execution_count": 97,
   "metadata": {},
   "outputs": [],
   "source": [
    "df.drop(mask, inplace=True)"
   ]
  },
  {
   "cell_type": "code",
   "execution_count": 98,
   "metadata": {},
   "outputs": [],
   "source": [
    "#pd.set_option('display.max_rows',None,'display.max_columns',None)"
   ]
  },
  {
   "cell_type": "code",
   "execution_count": 99,
   "metadata": {},
   "outputs": [],
   "source": [
    "#Cleaning Company Name Columns\n",
    "To_remove_lst = [' .LLC', ' INC.', ' LLC', ' ,INC', ' INC', ' Inc.', ', Inc.', ', Inc']\n",
    "df['Company Name'] = df['Company Name'].str.replace('|'.join(To_remove_lst), '')\n",
    "To_remove_lst = [' Inc.', ', Inc.', ', Inc', '. Inc']\n",
    "df['Company Name'] = df['Company Name'].str.replace('|'.join(To_remove_lst), ',')\n",
    "df['Company Name'] = df['Company Name'].str.upper()\n",
    "\n",
    "\n",
    "#Cleaning Salary Estimate Column and seperating into upper/lower\n",
    "temp_df = df['Salary Estimate'].str.split('-',expand=True)\n",
    "temp_df[0] = temp_df[0].str.replace('(\\D+)','')\n",
    "temp_df[1] = temp_df[1].str.replace('(\\D+)','')\n",
    "temp_df.rename(columns={0: \"Lower Salary Range (K)\", 1: \"Upper Salary Range (K)\"},inplace=True)\n",
    "df = pd.concat([df, temp_df],axis=1)\n",
    "df.drop(axis=1, columns=['Salary Estimate'], inplace=True)"
   ]
  },
  {
   "cell_type": "code",
   "execution_count": 100,
   "metadata": {},
   "outputs": [
    {
     "data": {
      "text/html": [
       "<div>\n",
       "<style scoped>\n",
       "    .dataframe tbody tr th:only-of-type {\n",
       "        vertical-align: middle;\n",
       "    }\n",
       "\n",
       "    .dataframe tbody tr th {\n",
       "        vertical-align: top;\n",
       "    }\n",
       "\n",
       "    .dataframe thead th {\n",
       "        text-align: right;\n",
       "    }\n",
       "</style>\n",
       "<table border=\"1\" class=\"dataframe\">\n",
       "  <thead>\n",
       "    <tr style=\"text-align: right;\">\n",
       "      <th></th>\n",
       "      <th>Company Name</th>\n",
       "      <th>Salary Range</th>\n",
       "    </tr>\n",
       "  </thead>\n",
       "  <tbody>\n",
       "    <tr>\n",
       "      <th>0</th>\n",
       "      <td>TECOLOTE RESEARCH</td>\n",
       "      <td>53,000-91,000</td>\n",
       "    </tr>\n",
       "    <tr>\n",
       "      <th>1</th>\n",
       "      <td>UNIVERSITY OF MARYLAND MEDICAL SYSTEM</td>\n",
       "      <td>63,000-112,000</td>\n",
       "    </tr>\n",
       "    <tr>\n",
       "      <th>2</th>\n",
       "      <td>KNOWBE4</td>\n",
       "      <td>80,000-90,000</td>\n",
       "    </tr>\n",
       "    <tr>\n",
       "      <th>3</th>\n",
       "      <td>PNNL</td>\n",
       "      <td>56,000-97,000</td>\n",
       "    </tr>\n",
       "    <tr>\n",
       "      <th>4</th>\n",
       "      <td>AFFINITY SOLUTIONS</td>\n",
       "      <td>86,000-143,000</td>\n",
       "    </tr>\n",
       "    <tr>\n",
       "      <th>...</th>\n",
       "      <td>...</td>\n",
       "      <td>...</td>\n",
       "    </tr>\n",
       "    <tr>\n",
       "      <th>338</th>\n",
       "      <td>SOFTBANK ROBOTICS</td>\n",
       "      <td>79,000-127,000</td>\n",
       "    </tr>\n",
       "    <tr>\n",
       "      <th>339</th>\n",
       "      <td>SKYSYNC</td>\n",
       "      <td>120,000-140,000</td>\n",
       "    </tr>\n",
       "    <tr>\n",
       "      <th>340</th>\n",
       "      <td>DATAMANUSA,</td>\n",
       "      <td>65,000-113,000</td>\n",
       "    </tr>\n",
       "    <tr>\n",
       "      <th>341</th>\n",
       "      <td>23ANDME</td>\n",
       "      <td>59,000-125,000</td>\n",
       "    </tr>\n",
       "    <tr>\n",
       "      <th>342</th>\n",
       "      <td>FIVESTARS</td>\n",
       "      <td>62,000-113,000</td>\n",
       "    </tr>\n",
       "  </tbody>\n",
       "</table>\n",
       "<p>341 rows × 2 columns</p>\n",
       "</div>"
      ],
      "text/plain": [
       "                              Company Name     Salary Range\n",
       "0                        TECOLOTE RESEARCH    53,000-91,000\n",
       "1    UNIVERSITY OF MARYLAND MEDICAL SYSTEM   63,000-112,000\n",
       "2                                  KNOWBE4    80,000-90,000\n",
       "3                                     PNNL    56,000-97,000\n",
       "4                       AFFINITY SOLUTIONS   86,000-143,000\n",
       "..                                     ...              ...\n",
       "338                      SOFTBANK ROBOTICS   79,000-127,000\n",
       "339                                SKYSYNC  120,000-140,000\n",
       "340                            DATAMANUSA,   65,000-113,000\n",
       "341                                23ANDME   59,000-125,000\n",
       "342                              FIVESTARS   62,000-113,000\n",
       "\n",
       "[341 rows x 2 columns]"
      ]
     },
     "execution_count": 100,
     "metadata": {},
     "output_type": "execute_result"
    }
   ],
   "source": [
    "lower = df['Lower Salary Range (K)']\n",
    "upper = df['Upper Salary Range (K)']\n",
    "\n",
    "df['Salary Range'] = lower+',000'+'-'+upper+',000'\n",
    "df.drop(axis=1, columns=['Lower Salary Range (K)', 'Upper Salary Range (K)'], inplace=True)\n",
    "df"
   ]
  },
  {
   "cell_type": "code",
   "execution_count": 101,
   "metadata": {},
   "outputs": [],
   "source": [
    "df.to_csv('cleaned_glassdoor.csv', index=False)"
   ]
  },
  {
   "cell_type": "code",
   "execution_count": null,
   "metadata": {},
   "outputs": [],
   "source": []
  }
 ],
 "metadata": {
  "kernelspec": {
   "display_name": "Python [conda env:root] *",
   "language": "python",
   "name": "conda-root-py"
  },
  "language_info": {
   "codemirror_mode": {
    "name": "ipython",
    "version": 3
   },
   "file_extension": ".py",
   "mimetype": "text/x-python",
   "name": "python",
   "nbconvert_exporter": "python",
   "pygments_lexer": "ipython3",
   "version": "3.8.5"
  }
 },
 "nbformat": 4,
 "nbformat_minor": 4
}
