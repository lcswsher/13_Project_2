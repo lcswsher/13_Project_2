{
 "cells": [
  {
   "cell_type": "code",
   "execution_count": 37,
   "metadata": {},
   "outputs": [],
   "source": [
    "import pandas as pd\n"
   ]
  },
  {
   "cell_type": "code",
   "execution_count": 38,
   "metadata": {},
   "outputs": [
    {
     "data": {
      "text/plain": [
       "Index(['Job Title', 'Salary Estimate', 'Job Description', 'Rating',\n",
       "       'Company Name', 'Location', 'Headquarters', 'Size', 'Founded',\n",
       "       'Type of ownership', 'Industry', 'Sector', 'Revenue', 'Competitors',\n",
       "       'hourly', 'employer_provided', 'min_salary', 'max_salary', 'avg_salary',\n",
       "       'company_txt', 'job_state', 'same_state', 'age', 'python_yn', 'R_yn',\n",
       "       'spark', 'aws', 'excel'],\n",
       "      dtype='object')"
      ]
     },
     "execution_count": 38,
     "metadata": {},
     "output_type": "execute_result"
    }
   ],
   "source": [
    "glassdoor_file = 'resources/glassdoor.csv'\n",
    "df = pd.read_csv(glassdoor_file)\n",
    "drop_col = df.columns\n",
    "drop_col"
   ]
  },
  {
   "cell_type": "code",
   "execution_count": 39,
   "metadata": {},
   "outputs": [
    {
     "data": {
      "text/html": [
       "<div>\n",
       "<style scoped>\n",
       "    .dataframe tbody tr th:only-of-type {\n",
       "        vertical-align: middle;\n",
       "    }\n",
       "\n",
       "    .dataframe tbody tr th {\n",
       "        vertical-align: top;\n",
       "    }\n",
       "\n",
       "    .dataframe thead th {\n",
       "        text-align: right;\n",
       "    }\n",
       "</style>\n",
       "<table border=\"1\" class=\"dataframe\">\n",
       "  <thead>\n",
       "    <tr style=\"text-align: right;\">\n",
       "      <th></th>\n",
       "      <th>Salary Estimate</th>\n",
       "      <th>Company Name</th>\n",
       "    </tr>\n",
       "  </thead>\n",
       "  <tbody>\n",
       "    <tr>\n",
       "      <th>0</th>\n",
       "      <td>$53K-$91K (Glassdoor est.)</td>\n",
       "      <td>Tecolote Research\\n3.8</td>\n",
       "    </tr>\n",
       "    <tr>\n",
       "      <th>1</th>\n",
       "      <td>$63K-$112K (Glassdoor est.)</td>\n",
       "      <td>University of Maryland Medical System\\n3.4</td>\n",
       "    </tr>\n",
       "    <tr>\n",
       "      <th>2</th>\n",
       "      <td>$80K-$90K (Glassdoor est.)</td>\n",
       "      <td>KnowBe4\\n4.8</td>\n",
       "    </tr>\n",
       "    <tr>\n",
       "      <th>3</th>\n",
       "      <td>$56K-$97K (Glassdoor est.)</td>\n",
       "      <td>PNNL\\n3.8</td>\n",
       "    </tr>\n",
       "    <tr>\n",
       "      <th>4</th>\n",
       "      <td>$86K-$143K (Glassdoor est.)</td>\n",
       "      <td>Affinity Solutions\\n2.9</td>\n",
       "    </tr>\n",
       "  </tbody>\n",
       "</table>\n",
       "</div>"
      ],
      "text/plain": [
       "               Salary Estimate                                Company Name\n",
       "0   $53K-$91K (Glassdoor est.)                      Tecolote Research\\n3.8\n",
       "1  $63K-$112K (Glassdoor est.)  University of Maryland Medical System\\n3.4\n",
       "2   $80K-$90K (Glassdoor est.)                                KnowBe4\\n4.8\n",
       "3   $56K-$97K (Glassdoor est.)                                   PNNL\\n3.8\n",
       "4  $86K-$143K (Glassdoor est.)                     Affinity Solutions\\n2.9"
      ]
     },
     "execution_count": 39,
     "metadata": {},
     "output_type": "execute_result"
    }
   ],
   "source": [
    "b = ['Job Title', 'Job Description', 'Rating', 'Location', 'Headquarters', 'Size', 'Founded', 'Type of ownership', 'Industry', 'Sector', 'Revenue', 'Competitors', 'hourly', 'employer_provided', 'min_salary', 'max_salary', 'avg_salary', 'company_txt', 'job_state', 'same_state', 'age', 'python_yn', 'R_yn', 'spark', 'aws', 'excel']\n",
    "df.drop(axis=1, columns=b, inplace=True)\n",
    "df.head()"
   ]
  },
  {
   "cell_type": "code",
   "execution_count": 40,
   "metadata": {},
   "outputs": [
    {
     "data": {
      "text/plain": [
       "<bound method Series.unique of 0                          Tecolote Research\\n3.8\n",
       "1      University of Maryland Medical System\\n3.4\n",
       "2                                    KnowBe4\\n4.8\n",
       "3                                       PNNL\\n3.8\n",
       "4                         Affinity Solutions\\n2.9\n",
       "                          ...                    \n",
       "737                                      GSK\\n3.9\n",
       "738                               Eventbrite\\n4.4\n",
       "739           Software Engineering Institute\\n2.6\n",
       "740                             Numeric, LLC\\n3.2\n",
       "741             Riverside Research Institute\\n3.6\n",
       "Name: Company Name, Length: 742, dtype: object>"
      ]
     },
     "execution_count": 40,
     "metadata": {},
     "output_type": "execute_result"
    }
   ],
   "source": [
    "df['Company Name'].unique"
   ]
  },
  {
   "cell_type": "code",
   "execution_count": 41,
   "metadata": {},
   "outputs": [
    {
     "data": {
      "text/plain": [
       "(742, 2)"
      ]
     },
     "execution_count": 41,
     "metadata": {},
     "output_type": "execute_result"
    }
   ],
   "source": [
    "df.shape"
   ]
  },
  {
   "cell_type": "code",
   "execution_count": 47,
   "metadata": {},
   "outputs": [
    {
     "data": {
      "text/plain": [
       "0                          Tecolote Research\\n3.8\n",
       "1      University of Maryland Medical System\\n3.4\n",
       "2                                    KnowBe4\\n4.8\n",
       "3                                       PNNL\\n3.8\n",
       "4                         Affinity Solutions\\n2.9\n",
       "                          ...                    \n",
       "737                                      GSK\\n3.9\n",
       "738                               Eventbrite\\n4.4\n",
       "739           Software Engineering Institute\\n2.6\n",
       "740                             Numeric, LLC\\n3.2\n",
       "741             Riverside Research Institute\\n3.6\n",
       "Name: Company Name, Length: 742, dtype: object"
      ]
     },
     "execution_count": 47,
     "metadata": {},
     "output_type": "execute_result"
    }
   ],
   "source": [
    "df['Company Name'].str.rstrip('\\n')"
   ]
  },
  {
   "cell_type": "code",
   "execution_count": null,
   "metadata": {},
   "outputs": [],
   "source": []
  }
 ],
 "metadata": {
  "kernelspec": {
   "display_name": "Python [conda env:root] *",
   "language": "python",
   "name": "conda-root-py"
  },
  "language_info": {
   "codemirror_mode": {
    "name": "ipython",
    "version": 3
   },
   "file_extension": ".py",
   "mimetype": "text/x-python",
   "name": "python",
   "nbconvert_exporter": "python",
   "pygments_lexer": "ipython3",
   "version": "3.8.5"
  }
 },
 "nbformat": 4,
 "nbformat_minor": 4
}
